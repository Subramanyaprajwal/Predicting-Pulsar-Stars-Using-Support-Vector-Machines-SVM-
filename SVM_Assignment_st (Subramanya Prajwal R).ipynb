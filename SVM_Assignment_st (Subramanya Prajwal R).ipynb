{
 "cells": [
  {
   "cell_type": "markdown",
   "metadata": {
    "id": "5ZcIZN3op0h_"
   },
   "source": [
    "### <span style = 'color:green'> Create a machine learning model that can predict the pulser star </span>\n",
    "\n",
    "\n",
    "**Support Vector Machines(SVM)**\n",
    "- Support Vector Machines (SVMs in short) are machine learning algorithms that are used for classification and regression purposes. SVMs are one of the powerful machine learning algorithms for classification, regression and outlier detection purposes. An SVM classifier builds a model that assigns new data points to one of the given categories. Thus, it can be viewed as a non-probabilistic binary linear classifier.\n",
    "\n",
    "**About the dataset**\n",
    "- Pulsars are a rare type of Neutron star that produce radio emission detectable here on Earth. They are of considerable scientific interest as probes of space-time, the inter-stellar medium, and states of matter. Machine learning tools are now being used to automatically label pulsar candidates to facilitate rapid analysis. Classification systems in particular are being widely adopted,which treat the candidate data sets as binary classification problems.\n",
    "\n",
    "**Expected output**\n",
    "- **Missing values should be treated**\n",
    "- **Perform Standerdisation and handle outliers**\n",
    "- **perform Support Vector Mchines and tune the model to increase the efficiency of the model**\n",
    "\n",
    "- For dataset please click here <a href=\"https://drive.google.com/file/d/19d2ocdl8d5rrE8Wc8nkBTFu_QrgtDt3q/view?usp=sharing\n",
    "\" title=\"Google Drive\">Click here</a>\n",
    "\n",
    "\n"
   ]
  },
  {
   "cell_type": "code",
   "execution_count": 16,
   "metadata": {
    "id": "plu2vCTVp0iD"
   },
   "outputs": [],
   "source": [
    "import pandas as pd\n",
    "import numpy as np\n",
    "from sklearn.preprocessing import RobustScaler\n",
    "from sklearn.model_selection import train_test_split\n",
    "from sklearn.preprocessing import StandardScaler\n",
    "from sklearn.svm import SVC\n",
    "from sklearn.metrics import classification_report, confusion_matrix\n",
    "from sklearn.model_selection import GridSearchCV"
   ]
  },
  {
   "cell_type": "code",
   "execution_count": 17,
   "metadata": {},
   "outputs": [],
   "source": [
    "data = pd.read_csv(\"pulsar_dataset.csv\")"
   ]
  },
  {
   "cell_type": "code",
   "execution_count": 18,
   "metadata": {},
   "outputs": [
    {
     "name": "stdout",
     "output_type": "stream",
     "text": [
      "    Mean of the integrated profile  \\\n",
      "0                       121.156250   \n",
      "1                        76.968750   \n",
      "2                       130.585938   \n",
      "3                       156.398438   \n",
      "4                        84.804688   \n",
      "\n",
      "    Standard deviation of the integrated profile  \\\n",
      "0                                      48.372971   \n",
      "1                                      36.175557   \n",
      "2                                      53.229534   \n",
      "3                                      48.865942   \n",
      "4                                      36.117659   \n",
      "\n",
      "    Excess kurtosis of the integrated profile  \\\n",
      "0                                    0.375485   \n",
      "1                                    0.712898   \n",
      "2                                    0.133408   \n",
      "3                                   -0.215989   \n",
      "4                                    0.825013   \n",
      "\n",
      "    Skewness of the integrated profile   Mean of the DM-SNR curve  \\\n",
      "0                            -0.013165                   3.168896   \n",
      "1                             3.388719                   2.399666   \n",
      "2                            -0.297242                   2.743311   \n",
      "3                            -0.171294                  17.471572   \n",
      "4                             3.274125                   2.790134   \n",
      "\n",
      "    Standard deviation of the DM-SNR curve  \\\n",
      "0                                18.399367   \n",
      "1                                17.570997   \n",
      "2                                22.362553   \n",
      "3                                      NaN   \n",
      "4                                20.618009   \n",
      "\n",
      "    Excess kurtosis of the DM-SNR curve   Skewness of the DM-SNR curve  \\\n",
      "0                              7.449874                      65.159298   \n",
      "1                              9.414652                     102.722975   \n",
      "2                              8.508364                      74.031324   \n",
      "3                              2.958066                       7.197842   \n",
      "4                              8.405008                      76.291128   \n",
      "\n",
      "   target_class  \n",
      "0           0.0  \n",
      "1           0.0  \n",
      "2           0.0  \n",
      "3           0.0  \n",
      "4           0.0  \n"
     ]
    }
   ],
   "source": [
    "print(data.head())"
   ]
  },
  {
   "cell_type": "code",
   "execution_count": 19,
   "metadata": {},
   "outputs": [],
   "source": [
    "# Handling missing values by filling them with the mean\n",
    "data.fillna(data.mean(), inplace=True)"
   ]
  },
  {
   "cell_type": "code",
   "execution_count": 20,
   "metadata": {},
   "outputs": [],
   "source": [
    "# Separating features and target variable\n",
    "X = data.drop('target_class', axis=1)\n",
    "y = data['target_class']\n",
    "\n",
    "# Standardization\n",
    "scaler = StandardScaler()\n",
    "X_scaled = scaler.fit_transform(X)"
   ]
  },
  {
   "cell_type": "code",
   "execution_count": 21,
   "metadata": {},
   "outputs": [],
   "source": [
    "# Using RobustScaler for feature scaling\n",
    "robust_scaler = RobustScaler()\n",
    "X_scaled = robust_scaler.fit_transform(X)"
   ]
  },
  {
   "cell_type": "code",
   "execution_count": 30,
   "metadata": {},
   "outputs": [],
   "source": [
    "# Splitting the dataset into the Training set and Test set\n",
    "X_train, X_test, y_train, y_test = train_test_split(X_scaled, y, test_size=0.2, random_state=42)"
   ]
  },
  {
   "cell_type": "code",
   "execution_count": 32,
   "metadata": {},
   "outputs": [
    {
     "name": "stdout",
     "output_type": "stream",
     "text": [
      "target_class\n",
      "0.0    16745\n",
      "1.0     1153\n",
      "Name: count, dtype: int64\n"
     ]
    }
   ],
   "source": [
    "print(data['target_class'].value_counts())"
   ]
  },
  {
   "cell_type": "code",
   "execution_count": 33,
   "metadata": {},
   "outputs": [
    {
     "name": "stdout",
     "output_type": "stream",
     "text": [
      "[0. 1.]\n"
     ]
    }
   ],
   "source": [
    "print(data['target_class'].unique())"
   ]
  },
  {
   "cell_type": "code",
   "execution_count": 34,
   "metadata": {},
   "outputs": [
    {
     "name": "stdout",
     "output_type": "stream",
     "text": [
      "0\n"
     ]
    }
   ],
   "source": [
    "print(y.isnull().sum())"
   ]
  },
  {
   "cell_type": "code",
   "execution_count": 36,
   "metadata": {},
   "outputs": [],
   "source": [
    "y = y.astype(int)"
   ]
  },
  {
   "cell_type": "code",
   "execution_count": 37,
   "metadata": {},
   "outputs": [
    {
     "name": "stdout",
     "output_type": "stream",
     "text": [
      " Mean of the integrated profile                  float64\n",
      " Standard deviation of the integrated profile    float64\n",
      " Excess kurtosis of the integrated profile       float64\n",
      " Skewness of the integrated profile              float64\n",
      " Mean of the DM-SNR curve                        float64\n",
      " Standard deviation of the DM-SNR curve          float64\n",
      " Excess kurtosis of the DM-SNR curve             float64\n",
      " Skewness of the DM-SNR curve                    float64\n",
      "dtype: object\n",
      "int32\n"
     ]
    }
   ],
   "source": [
    "print(X.dtypes)\n",
    "print(y.dtypes)"
   ]
  },
  {
   "cell_type": "code",
   "execution_count": 40,
   "metadata": {},
   "outputs": [
    {
     "name": "stdout",
     "output_type": "stream",
     "text": [
      "[[3287   70]\n",
      " [  56  167]]\n",
      "              precision    recall  f1-score   support\n",
      "\n",
      "           0       0.98      0.98      0.98      3357\n",
      "           1       0.70      0.75      0.73       223\n",
      "\n",
      "    accuracy                           0.96      3580\n",
      "   macro avg       0.84      0.86      0.85      3580\n",
      "weighted avg       0.97      0.96      0.97      3580\n",
      "\n"
     ]
    }
   ],
   "source": [
    "# Convert target variable to integer type\n",
    "y_train = y_train.astype(int)\n",
    "y_test = y_test.astype(int)\n",
    "\n",
    "# Implementing SVM\n",
    "svm_model = SVC()\n",
    "\n",
    "# Fitting the model\n",
    "svm_model.fit(X_train, y_train)\n",
    "\n",
    "# Predictions\n",
    "predictions = svm_model.predict(X_test)\n",
    "\n",
    "# Evaluating the model\n",
    "print(confusion_matrix(y_test, predictions))\n",
    "print(classification_report(y_test, predictions))"
   ]
  },
  {
   "cell_type": "code",
   "execution_count": null,
   "metadata": {},
   "outputs": [],
   "source": [
    "'''\n",
    "The confusion matrix shows the counts of true negatives (TN), false positives (FP), false negatives (FN), and true positives (TP).\n",
    "Precision, recall, and F1-score are metrics to evaluate the model's performance on each class (0 and 1).\n",
    "Accuracy represents the overall correctness of the model predictions.\n",
    "'''"
   ]
  }
 ],
 "metadata": {
  "colab": {
   "provenance": []
  },
  "kernelspec": {
   "display_name": "Python 3 (ipykernel)",
   "language": "python",
   "name": "python3"
  },
  "language_info": {
   "codemirror_mode": {
    "name": "ipython",
    "version": 3
   },
   "file_extension": ".py",
   "mimetype": "text/x-python",
   "name": "python",
   "nbconvert_exporter": "python",
   "pygments_lexer": "ipython3",
   "version": "3.11.5"
  }
 },
 "nbformat": 4,
 "nbformat_minor": 1
}
